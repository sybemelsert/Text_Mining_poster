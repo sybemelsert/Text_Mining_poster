{
 "cells": [
  {
   "cell_type": "code",
   "execution_count": null,
   "id": "e4171a50",
   "metadata": {},
   "outputs": [
    {
     "name": "stderr",
     "output_type": "stream",
     "text": [
      "Some weights of BertForSequenceClassification were not initialized from the model checkpoint at bert-base-cased and are newly initialized: ['classifier.bias', 'classifier.weight']\n",
      "You should probably TRAIN this model on a down-stream task to be able to use it for predictions and inference.\n",
      "/opt/anaconda3/envs/TextMining/lib/python3.11/site-packages/simpletransformers/classification/classification_model.py:610: UserWarning: Dataframe headers not specified. Falling back to using column 0 as text and column 1 as labels.\n",
      "  warnings.warn(\n"
     ]
    },
    {
     "data": {
      "application/vnd.jupyter.widget-view+json": {
       "model_id": "88c1107e3d9a492a801089c2cbb60bae",
       "version_major": 2,
       "version_minor": 0
      },
      "text/plain": [
       "  0%|          | 0/12 [00:00<?, ?it/s]"
      ]
     },
     "metadata": {},
     "output_type": "display_data"
    },
    {
     "name": "stderr",
     "output_type": "stream",
     "text": [
      "huggingface/tokenizers: The current process just got forked, after parallelism has already been used. Disabling parallelism to avoid deadlocks...\n",
      "To disable this warning, you can either:\n",
      "\t- Avoid using `tokenizers` before the fork if possible\n",
      "\t- Explicitly set the environment variable TOKENIZERS_PARALLELISM=(true | false)\n",
      "huggingface/tokenizers: The current process just got forked, after parallelism has already been used. Disabling parallelism to avoid deadlocks...\n",
      "To disable this warning, you can either:\n",
      "\t- Avoid using `tokenizers` before the fork if possible\n",
      "\t- Explicitly set the environment variable TOKENIZERS_PARALLELISM=(true | false)\n",
      "huggingface/tokenizers: The current process just got forked, after parallelism has already been used. Disabling parallelism to avoid deadlocks...\n",
      "To disable this warning, you can either:\n",
      "\t- Avoid using `tokenizers` before the fork if possible\n",
      "\t- Explicitly set the environment variable TOKENIZERS_PARALLELISM=(true | false)\n",
      "huggingface/tokenizers: The current process just got forked, after parallelism has already been used. Disabling parallelism to avoid deadlocks...\n",
      "To disable this warning, you can either:\n",
      "\t- Avoid using `tokenizers` before the fork if possible\n",
      "\t- Explicitly set the environment variable TOKENIZERS_PARALLELISM=(true | false)\n",
      "huggingface/tokenizers: The current process just got forked, after parallelism has already been used. Disabling parallelism to avoid deadlocks...\n",
      "To disable this warning, you can either:\n",
      "\t- Avoid using `tokenizers` before the fork if possible\n",
      "\t- Explicitly set the environment variable TOKENIZERS_PARALLELISM=(true | false)\n",
      "huggingface/tokenizers: The current process just got forked, after parallelism has already been used. Disabling parallelism to avoid deadlocks...\n",
      "To disable this warning, you can either:\n",
      "\t- Avoid using `tokenizers` before the fork if possible\n",
      "\t- Explicitly set the environment variable TOKENIZERS_PARALLELISM=(true | false)\n"
     ]
    },
    {
     "data": {
      "application/vnd.jupyter.widget-view+json": {
       "model_id": "da31b01967364bf2ab307f4b92b6830c",
       "version_major": 2,
       "version_minor": 0
      },
      "text/plain": [
       "Epoch:   0%|          | 0/1 [00:00<?, ?it/s]"
      ]
     },
     "metadata": {},
     "output_type": "display_data"
    },
    {
     "data": {
      "application/vnd.jupyter.widget-view+json": {
       "model_id": "3bdb0c0654214b9c8068095b8e5b369e",
       "version_major": 2,
       "version_minor": 0
      },
      "text/plain": [
       "Running Epoch 1 of 1:   0%|          | 0/752 [00:00<?, ?it/s]"
      ]
     },
     "metadata": {},
     "output_type": "display_data"
    },
    {
     "data": {
      "application/vnd.jupyter.widget-view+json": {
       "model_id": "022767b9e099416a90442db6210da3ec",
       "version_major": 2,
       "version_minor": 0
      },
      "text/plain": [
       "0it [00:00, ?it/s]"
      ]
     },
     "metadata": {},
     "output_type": "display_data"
    },
    {
     "name": "stderr",
     "output_type": "stream",
     "text": [
      "huggingface/tokenizers: The current process just got forked, after parallelism has already been used. Disabling parallelism to avoid deadlocks...\n",
      "To disable this warning, you can either:\n",
      "\t- Avoid using `tokenizers` before the fork if possible\n",
      "\t- Explicitly set the environment variable TOKENIZERS_PARALLELISM=(true | false)\n"
     ]
    },
    {
     "data": {
      "application/vnd.jupyter.widget-view+json": {
       "model_id": "52abbe4a116b4294ad1e0804170ba02f",
       "version_major": 2,
       "version_minor": 0
      },
      "text/plain": [
       "  0%|          | 0/1 [00:00<?, ?it/s]"
      ]
     },
     "metadata": {},
     "output_type": "display_data"
    },
    {
     "name": "stdout",
     "output_type": "stream",
     "text": [
      "                                            sentence   topic predicted_topic\n",
      "0  The stadium was alive with the roar of the cro...  sports          sports\n",
      "1  That last-minute goal had me jumping out of my...  sports          sports\n",
      "2  I couldn’t put the book down; it swept me into...    book            book\n",
      "3  The story had its moments, though some parts f...    book            book\n",
      "4  I enjoyed the way the timelines shifted, even ...    book            book\n",
      "\n",
      "Classification Report:\n",
      "              precision    recall  f1-score   support\n",
      "\n",
      "        book      0.750     1.000     0.857         6\n",
      "       movie      1.000     0.667     0.800         6\n",
      "      sports      0.833     0.833     0.833         6\n",
      "\n",
      "    accuracy                          0.833        18\n",
      "   macro avg      0.861     0.833     0.830        18\n",
      "weighted avg      0.861     0.833     0.830        18\n",
      "\n"
     ]
    }
   ],
   "source": [
    "# Import the necessary libraries\n",
    "import pandas as pd\n",
    "from sklearn.metrics import classification_report\n",
    "from sklearn.preprocessing import LabelEncoder\n",
    "from simpletransformers.classification import ClassificationModel\n",
    "\n",
    "# Load and clean training data\n",
    "df_train = pd.read_csv(\"big_data.csv\")\n",
    "df_train[\"review\"] = df_train[\"review\"].astype(str).str.strip() #  non-strings and strip whitespaces\n",
    "df_train = df_train[df_train[\"review\"] != \"\"] # also remove the rows where the review column is empty to ensure non-empty reviews\n",
    "\n",
    "# Load test data\n",
    "df_test = pd.read_csv(\"sentiment-topic-test.tsv\", sep=\"\\t\") # Use \\t as seperator to read .tsv-files\n",
    "\n",
    "# We use a smaller subset with randomness due to the huge training time\n",
    "df_train = df_train.sample(frac=0.05, random_state=42)  # use 5% of data\n",
    "\n",
    "# Encode string labels into integers\n",
    "label_encoder = LabelEncoder() # Initialize the label encoder\n",
    "df_train[\"label\"] = label_encoder.fit_transform(df_train[\"label\"])\n",
    "\n",
    "# Prepare training data by selecting 'review' and 'label' columns only\n",
    "train_data = df_train[[\"review\", \"label\"]]\n",
    "\n",
    "# Initialize the BERT classification model\n",
    "model = ClassificationModel(\n",
    "    'bert', 'bert-base-cased', # the BERT initialization extracted from lab6\n",
    "    num_labels=len(label_encoder.classes_), # Set the number of labels to the number of classes in our set\n",
    "    args={\n",
    "        # We have adjusted some arguments to (try) and decrease training time\n",
    "        \"reprocess_input_data\": True,\n",
    "        \"overwrite_output_dir\": True,\n",
    "        \"num_train_epochs\": 1,\n",
    "        \"train_batch_size\": 8\n",
    "    },\n",
    "    use_cuda=False # If the device has a GPU, this setting can be set to True, resulting in faster training. As our devices have\n",
    "    # integrated graphics in our CPU, we have set this to False by default.\n",
    ")\n",
    "\n",
    "# Train the model\n",
    "model.train_model(train_data)\n",
    "\n",
    "# Predict on test data\n",
    "predictions, _ = model.predict(df_test[\"sentence\"].tolist())\n",
    "\n",
    "# Convert predictions back to original labels\n",
    "df_test[\"predicted_topic\"] = label_encoder.inverse_transform(predictions)\n",
    "\n",
    "# Show a few results\n",
    "print(df_test[[\"sentence\", \"topic\", \"predicted_topic\"]].head())\n",
    "\n",
    "# Evaluate performance\n",
    "print(\"\\nClassification Report:\")\n",
    "print(classification_report(df_test[\"topic\"], df_test[\"predicted_topic\"], digits=3))"
   ]
  },
  {
   "cell_type": "code",
   "execution_count": 13,
   "id": "f888ffc1",
   "metadata": {},
   "outputs": [
    {
     "data": {
      "image/png": "[encoded data removed]",
      "text/plain": [
       "<Figure size 1000x600 with 1 Axes>"
      ]
     },
     "metadata": {},
     "output_type": "display_data"
    }
   ],
   "source": [
    "import matplotlib.pyplot as plt\n",
    "import numpy as np\n",
    "from sklearn.metrics import classification_report\n",
    "\n",
    "# Generate classification report as dictionary\n",
    "report_dict = classification_report(df_test[\"topic\"], df_test[\"predicted_topic\"], output_dict=True)\n",
    "\n",
    "# Remove accuracy and macro/micro avg if present\n",
    "labels = [label for label in report_dict if label in label_encoder.classes_]\n",
    "\n",
    "# Get metrics\n",
    "precision = [report_dict[label][\"precision\"] for label in labels]\n",
    "recall = [report_dict[label][\"recall\"] for label in labels]\n",
    "f1 = [report_dict[label][\"f1-score\"] for label in labels]\n",
    "\n",
    "# Set up plot\n",
    "x = np.arange(len(labels))  # label locations\n",
    "width = 0.25  # width of bars\n",
    "\n",
    "# Create bars\n",
    "plt.figure(figsize=(10, 6))\n",
    "plt.bar(x - width, precision, width, label='Precision', color='midnightblue')\n",
    "plt.bar(x, recall, width, label='Recall', color='lightblue')\n",
    "plt.bar(x + width, f1, width, label='F1-score', color='cornflowerblue')\n",
    "\n",
    "# Formatting\n",
    "plt.ylabel(\"Score\")\n",
    "plt.title(\"BERT Topic Classification: Precision, Recall, F1-score by Topic\")\n",
    "plt.xticks(ticks=x, labels=labels, rotation=45)\n",
    "plt.ylim(0, 1)\n",
    "plt.legend()\n",
    "plt.grid(True, axis=\"y\", linestyle=\"--\", alpha=0.7)\n",
    "\n",
    "plt.tight_layout()\n",
    "plt.show()"
   ]
  }
 ],
 "metadata": {
  "kernelspec": {
   "display_name": "TextMining",
   "language": "python",
   "name": "python3"
  },
  "language_info": {
   "codemirror_mode": {
    "name": "ipython",
    "version": 3
   },
   "file_extension": ".py",
   "mimetype": "text/x-python",
   "name": "python",
   "nbconvert_exporter": "python",
   "pygments_lexer": "ipython3",
   "version": "3.11.8"
  }
 },
 "nbformat": 4,
 "nbformat_minor": 5
}
