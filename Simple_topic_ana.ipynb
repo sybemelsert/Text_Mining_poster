{
 "cells": [
  {
   "cell_type": "code",
   "execution_count": null,
   "id": "a2642a37",
   "metadata": {},
   "outputs": [
    {
     "name": "stdout",
     "output_type": "stream",
     "text": [
      "                                            sentence   topic predicted_topic\n",
      "0  The stadium was alive with the roar of the cro...  sports          sports\n",
      "1  That last-minute goal had me jumping out of my...  sports            book\n",
      "2  I couldn’t put the book down; it swept me into...    book            book\n",
      "3  The story had its moments, though some parts f...    book            book\n",
      "4  I enjoyed the way the timelines shifted, even ...    book            book\n",
      "\n",
      "Classification Report:\n",
      "              precision    recall  f1-score   support\n",
      "\n",
      "        book      0.667     1.000     0.800         6\n",
      "       movie      1.000     0.500     0.667         6\n",
      "      sports      0.833     0.833     0.833         6\n",
      "\n",
      "    accuracy                          0.778        18\n",
      "   macro avg      0.833     0.778     0.767        18\n",
      "weighted avg      0.833     0.778     0.767        18\n",
      "\n"
     ]
    }
   ],
   "source": [
    "# Import our necessary libraries\n",
    "import pandas as pd\n",
    "from sklearn.feature_extraction.text import TfidfVectorizer\n",
    "from sklearn.linear_model import LogisticRegression\n",
    "from sklearn.metrics import classification_report\n",
    "\n",
    "# Loading our training and test data from our downloaded datasets\n",
    "df_train = pd.read_csv(\"big_data.csv\")\n",
    "df_test = pd.read_csv(\"sentiment-topic-test.tsv\", sep=\"\\t\") # Use \\t as seperator to read .tsv-files\n",
    "\n",
    "# Clean training data by ensuring all reviews are formatted as a string and remove unwanted lines such as whitespace\n",
    "df_train[\"review\"] = df_train[\"review\"].astype(str).str.strip() # non-strings and strip whitespaces\n",
    "df_train = df_train[df_train[\"review\"] != \"\"] # also remove the rows where the review column is empty to ensure non-empty reviews\n",
    "\n",
    "# Initialize TF-IDF vectorization model and fit data to\n",
    "vectorizer = TfidfVectorizer() # Initialize flat vector\n",
    "X_train = vectorizer.fit_transform(df_train[\"review\"]) # Fit data to our model\n",
    "X_test = vectorizer.transform(df_test[\"sentence\"]) # Fit data to our model\n",
    "\n",
    "# Train the model\n",
    "log_reg = LogisticRegression() # Initialize logistic regression to classify vectors into labels\n",
    "log_reg.fit(X_train, df_train[\"label\"]) # the actual model training \n",
    "\n",
    "# Predict the resulting topic on test data\n",
    "df_test[\"predicted_topic\"] = log_reg.predict(X_test)\n",
    "\n",
    "# Show some results\n",
    "print(df_test[[\"sentence\", \"topic\", \"predicted_topic\"]].head())\n",
    "\n",
    "print()\n",
    "# Evaluate performance\n",
    "print(\"Classification Report:\")\n",
    "print(classification_report(df_test[\"topic\"], df_test[\"predicted_topic\"], digits=3))\n",
    "\n"
   ]
  }
 ],
 "metadata": {
  "kernelspec": {
   "display_name": "PCA25",
   "language": "python",
   "name": "python3"
  },
  "language_info": {
   "codemirror_mode": {
    "name": "ipython",
    "version": 3
   },
   "file_extension": ".py",
   "mimetype": "text/x-python",
   "name": "python",
   "nbconvert_exporter": "python",
   "pygments_lexer": "ipython3",
   "version": "3.11.9"
  }
 },
 "nbformat": 4,
 "nbformat_minor": 5
}
