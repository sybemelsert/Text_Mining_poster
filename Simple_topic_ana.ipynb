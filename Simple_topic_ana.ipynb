{
 "cells": [
  {
   "cell_type": "code",
   "execution_count": null,
   "id": "a2642a37",
   "metadata": {},
   "outputs": [
    {
     "name": "stdout",
     "output_type": "stream",
     "text": [
      "                                            sentence   topic predicted_topic\n",
      "0  The stadium was alive with the roar of the cro...  sports          sports\n",
      "1  That last-minute goal had me jumping out of my...  sports            book\n",
      "2  I couldn’t put the book down; it swept me into...    book            book\n",
      "3  The story had its moments, though some parts f...    book            book\n",
      "4  I enjoyed the way the timelines shifted, even ...    book            book\n",
      "\n",
      "Classification Report:\n",
      "              precision    recall  f1-score   support\n",
      "\n",
      "        book      0.667     1.000     0.800         6\n",
      "       movie      1.000     0.500     0.667         6\n",
      "      sports      0.833     0.833     0.833         6\n",
      "\n",
      "    accuracy                          0.778        18\n",
      "   macro avg      0.833     0.778     0.767        18\n",
      "weighted avg      0.833     0.778     0.767        18\n",
      "\n"
     ]
    }
   ],
   "source": [
    "import pandas as pd\n",
    "from sklearn.feature_extraction.text import TfidfVectorizer\n",
    "from sklearn.linear_model import LogisticRegression\n",
    "from sklearn.metrics import classification_report\n",
    "\n",
    "# Load datasets\n",
    "df_train = pd.read_csv(\"big_data.csv\")\n",
    "df_test = pd.read_csv(\"sentiment-topic-test.tsv\", sep=\"\\t\")\n",
    "\n",
    "# Clean training data\n",
    "df_train[\"review\"] = df_train[\"review\"].astype(str).str.strip()\n",
    "df_train = df_train[df_train[\"review\"] != \"\"]\n",
    "\n",
    "# TF-IDF vectorization\n",
    "vectorizer = TfidfVectorizer()\n",
    "X_train = vectorizer.fit_transform(df_train[\"review\"])\n",
    "X_test = vectorizer.transform(df_test[\"sentence\"])\n",
    "\n",
    "# Train model\n",
    "clf = LogisticRegression()\n",
    "clf.fit(X_train, df_train[\"label\"])\n",
    "\n",
    "# Predict\n",
    "df_test[\"predicted_topic\"] = clf.predict(X_test)\n",
    "\n",
    "# Show some results\n",
    "print(df_test[[\"sentence\", \"topic\", \"predicted_topic\"]].head())\n",
    "\n",
    "# Evaluate performance\n",
    "print(\"\\nClassification Report:\")\n",
    "print(classification_report(df_test[\"topic\"], df_test[\"predicted_topic\"], digits=3))\n",
    "\n"
   ]
  }
 ],
 "metadata": {
  "kernelspec": {
   "display_name": "Text_mining_3_12",
   "language": "python",
   "name": "python3"
  },
  "language_info": {
   "codemirror_mode": {
    "name": "ipython",
    "version": 3
   },
   "file_extension": ".py",
   "mimetype": "text/x-python",
   "name": "python",
   "nbconvert_exporter": "python",
   "pygments_lexer": "ipython3",
   "version": "3.12.10"
  }
 },
 "nbformat": 4,
 "nbformat_minor": 5
}
